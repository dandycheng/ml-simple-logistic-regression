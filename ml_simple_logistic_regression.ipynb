{
  "nbformat": 4,
  "nbformat_minor": 0,
  "metadata": {
    "colab": {
      "name": "ml-simple-logistic-regression",
      "provenance": [],
      "collapsed_sections": [],
      "machine_shape": "hm"
    },
    "kernelspec": {
      "name": "python3",
      "display_name": "Python 3"
    },
    "accelerator": "GPU"
  },
  "cells": [
    {
      "cell_type": "code",
      "metadata": {
        "id": "U9mNAJUFtc1u",
        "colab_type": "code",
        "colab": {}
      },
      "source": [
        "import numpy as np\n",
        "import pandas as pd\n",
        "import matplotlib.pyplot as plt\n",
        "import seaborn as sns\n",
        "import os\n",
        "import math\n",
        "import time"
      ],
      "execution_count": 0,
      "outputs": []
    },
    {
      "cell_type": "code",
      "metadata": {
        "id": "tz5H8UFbt15E",
        "colab_type": "code",
        "outputId": "31a37e19-3678-436a-eca3-fa16bbbab15f",
        "colab": {
          "base_uri": "https://localhost:8080/",
          "height": 428
        }
      },
      "source": [
        "url = 'https://raw.githubusercontent.com/animesh-agarwal/Machine-Learning/master/LogisticRegression/data/marks.txt'     # Andrew Ng logistic regression dataset\n",
        "columns = ['exam1','exam2','admission']\n",
        "\n",
        "dataset = pd.read_csv(url).to_numpy()\n",
        "df = pd.DataFrame(data=dataset,columns=columns)\n",
        "X = np.hstack((np.ones(shape=(len(df),1)),df.iloc[:,:2]))\n",
        "T = np.zeros(df.columns.size)\n",
        "m = len(X)\n",
        "total_iters = 0\n",
        "lr = 1e-2\n",
        "\n",
        "not_admitted = df[df.admission == 0]\n",
        "admitted = df[df.admission == 1]\n",
        "\n",
        "Y = df.admission\n",
        "\n",
        "plt.figure(figsize=(10,6))\n",
        "plt.scatter(not_admitted.exam1,not_admitted.exam2)\n",
        "plt.scatter(admitted.exam1,admitted.exam2)\n",
        "\n",
        "print(X.shape,T.shape)\n",
        "# Plot initial gradient\n",
        "x = [np.min(X[:, 1]), np.max(X[:, 2])]\n",
        "y = -(T[0] + T[2] * np.array(x)) / T[1]\n",
        "plt.plot(x,y)"
      ],
      "execution_count": 36,
      "outputs": [
        {
          "output_type": "stream",
          "text": [
            "(99, 3) (3,)\n"
          ],
          "name": "stdout"
        },
        {
          "output_type": "stream",
          "text": [
            "/usr/local/lib/python3.6/dist-packages/ipykernel_launcher.py:24: RuntimeWarning: invalid value encountered in true_divide\n"
          ],
          "name": "stderr"
        },
        {
          "output_type": "execute_result",
          "data": {
            "text/plain": [
              "[<matplotlib.lines.Line2D at 0x7f23b9d0bf60>]"
            ]
          },
          "metadata": {
            "tags": []
          },
          "execution_count": 36
        },
        {
          "output_type": "display_data",
          "data": {
            "image/png": "[encoded data removed]",
            "text/plain": [
              "<Figure size 720x432 with 1 Axes>"
            ]
          },
          "metadata": {
            "tags": []
          }
        }
      ]
    },
    {
      "cell_type": "markdown",
      "metadata": {
        "id": "Fsg2DziJHxzC",
        "colab_type": "text"
      },
      "source": [
        "\\begin{gathered}\n",
        "\\text{Gradient descent implementation:}\\\\\n",
        "\\theta:=\\theta - \\frac{\\alpha}{m}X^T(g(X\\theta)-\\vec{y}),\n",
        "\\text{where }\\textbf{g(z)} = \\frac{1}{1+e^{-z}}\\\\\\\\\n",
        "\\text{Cost function: }\\\\\n",
        "J(\\theta)=\\frac{1}{m}\\cdot(-y^Tlog(h)-(1-y)^Tlog(1-h))\\\\\n",
        "\\nabla J(\\theta)=\\frac{1}{m}\\cdot X^T\\cdot (g(X\\theta)-\\vec{y})\n",
        "\\end{gathered}"
      ]
    },
    {
      "cell_type": "code",
      "metadata": {
        "id": "kWhGxYDrrD9e",
        "colab_type": "code",
        "colab": {}
      },
      "source": [
        "def sigmoid(z):\n",
        "    return 1 / (1 + np.exp(-z))"
      ],
      "execution_count": 0,
      "outputs": []
    },
    {
      "cell_type": "code",
      "metadata": {
        "id": "LGbXGUJjQmqQ",
        "colab_type": "code",
        "outputId": "0e0b27d0-36a4-46b9-9a84-09e436acbc13",
        "colab": {
          "base_uri": "https://localhost:8080/",
          "height": 35
        }
      },
      "source": [
        "def calculateCost(T):\n",
        "    hypot = sigmoid(X @ T)\n",
        "    cost = (-Y.T @ np.log(hypot) - (1 - Y).T @ np.log(1 - hypot)) / m\n",
        "    return cost\n",
        "\n",
        "calculateCost(T)"
      ],
      "execution_count": 38,
      "outputs": [
        {
          "output_type": "execute_result",
          "data": {
            "text/plain": [
              "0.6931471805599453"
            ]
          },
          "metadata": {
            "tags": []
          },
          "execution_count": 38
        }
      ]
    },
    {
      "cell_type": "code",
      "metadata": {
        "id": "ljkgP7KjsIiV",
        "colab_type": "code",
        "colab": {}
      },
      "source": [
        "def gradDescent(iter = 10000,threshold = 5e-5):\n",
        "    global X,Y,T,m,lr,total_iters\n",
        "    i = 0\n",
        "    exp = 2\n",
        "    cost = calculateCost(T)\n",
        "    prev_cost = cost\n",
        "    cost_hist = [cost]\n",
        "    while i < iter:\n",
        "        gradient = X.T @ (sigmoid(X @ T) - Y)\n",
        "        T -= (lr / m) * gradient\n",
        "        cost = calculateCost(T)\n",
        "\n",
        "        if abs(cost - prev_cost) < threshold:\n",
        "            return\n",
        "\n",
        "        if(cost > prev_cost):\n",
        "            print(f\"Learning rate too large ({cost} > {prev_cost}), adjusting learning rate from {lr} to {lr * 1 / exp}\")\n",
        "            lr *= 1 / exp\n",
        "            exp += 1\n",
        "        else:\n",
        "            prev_cost = cost\n",
        "            cost_hist.append(cost)\n",
        "\n",
        "        i += 1\n",
        "        total_iters += 1"
      ],
      "execution_count": 0,
      "outputs": []
    },
    {
      "cell_type": "code",
      "metadata": {
        "id": "ktU5w9CVr__3",
        "colab_type": "code",
        "outputId": "1bd315aa-0b9f-4db3-9f41-fcb22c199e05",
        "colab": {
          "base_uri": "https://localhost:8080/",
          "height": 550
        }
      },
      "source": [
        "x = 0\n",
        "eph = 30\n",
        "while x <= eph:\n",
        "    gradDescent(threshold=6e-15)\n",
        "    x += 1\n",
        "\n",
        "print(f\"\\nEpochs: {eph}\")\n",
        "print(f\"Total iterations: {total_iters}\")\n",
        "print(f\"Cost: {calculateCost(T)}\")\n",
        "print(f\"Learning rate: {lr}\")\n",
        "print(f\"Parameters: {T}\\n\")\n",
        "\n",
        "x = [np.min(X[:, 1]), np.max(X[:, 2])]\n",
        "y = -(T[0] + T[2] * np.array(x)) / T[1]\n",
        "\n",
        "plt.clf()\n",
        "plt.figure(figsize=(10,6))\n",
        "plt.scatter(not_admitted.exam1,not_admitted.exam2)\n",
        "plt.scatter(admitted.exam1,admitted.exam2)\n",
        "plt.xlabel('Admitted')\n",
        "plt.ylabel('Not admitted')\n",
        "plt.plot(x,y)"
      ],
      "execution_count": 41,
      "outputs": [
        {
          "output_type": "stream",
          "text": [
            "\n",
            "Epochs: 30\n",
            "Total iterations: 620000\n",
            "Cost: 0.2943855198414493\n",
            "Learning rate: 0.00041666666666666664\n",
            "Parameters: [-8.53592194  0.07298338  0.06890241]\n",
            "\n"
          ],
          "name": "stdout"
        },
        {
          "output_type": "execute_result",
          "data": {
            "text/plain": [
              "[<matplotlib.lines.Line2D at 0x7f23b9c764a8>]"
            ]
          },
          "metadata": {
            "tags": []
          },
          "execution_count": 41
        },
        {
          "output_type": "display_data",
          "data": {
            "text/plain": [
              "<Figure size 432x288 with 0 Axes>"
            ]
          },
          "metadata": {
            "tags": []
          }
        },
        {
          "output_type": "display_data",
          "data": {
            "image/png": "[encoded data removed]",
            "text/plain": [
              "<Figure size 720x432 with 1 Axes>"
            ]
          },
          "metadata": {
            "tags": []
          }
        }
      ]
    }
  ]
}